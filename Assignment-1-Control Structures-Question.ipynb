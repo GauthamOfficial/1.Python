{
 "cells": [
  {
   "cell_type": "code",
   "execution_count": 1,
   "id": "0e71ac4b",
   "metadata": {},
   "outputs": [
    {
     "name": "stdout",
     "output_type": "stream",
     "text": [
      "Welcome to Assignment-1\n"
     ]
    }
   ],
   "source": [
    "print(\"Welcome to Assignment-1\")"
   ]
  },
  {
   "cell_type": "code",
   "execution_count": 2,
   "id": "71631ec7",
   "metadata": {},
   "outputs": [
    {
     "name": "stdout",
     "output_type": "stream",
     "text": [
      "Num1= 10\n",
      "Num2= 30\n",
      "Add=  40\n"
     ]
    }
   ],
   "source": [
    "Num1 =int(input(\"Num1= \"))\n",
    "Num2 =int(input(\"Num2= \"))\n",
    "add = Num1 + Num2\n",
    "print(\"Add= \", add)"
   ]
  },
  {
   "cell_type": "code",
   "execution_count": 3,
   "id": "2eb873db",
   "metadata": {},
   "outputs": [],
   "source": [
    "#Body Mass Index "
   ]
  },
  {
   "cell_type": "code",
   "execution_count": 4,
   "id": "a9c2169d",
   "metadata": {},
   "outputs": [
    {
     "name": "stdout",
     "output_type": "stream",
     "text": [
      "Enter the BMI Index:34\n",
      "Very Overweight\n"
     ]
    }
   ],
   "source": [
    "BMI = int(input(\"Enter the BMI Index:\"))\n",
    "if(BMI<18.5):\n",
    "    print(\"Underweight\")\n",
    "elif(BMI<24.9):\n",
    "    print(\"Normal range\")\n",
    "elif(BMI<29.9):\n",
    "    print(\"Overweight\")\n",
    "elif(BMI<34.9):\n",
    "    print(\"Very Overweight\")\n",
    "elif(BMI<39.9):\n",
    "    print(\"Obese class II\")\n",
    "else:\n",
    "    print(\"Obese Class III\")"
   ]
  },
  {
   "cell_type": "code",
   "execution_count": null,
   "id": "610546da",
   "metadata": {},
   "outputs": [],
   "source": []
  }
 ],
 "metadata": {
  "kernelspec": {
   "display_name": "Python 3 (ipykernel)",
   "language": "python",
   "name": "python3"
  },
  "language_info": {
   "codemirror_mode": {
    "name": "ipython",
    "version": 3
   },
   "file_extension": ".py",
   "mimetype": "text/x-python",
   "name": "python",
   "nbconvert_exporter": "python",
   "pygments_lexer": "ipython3",
   "version": "3.11.5"
  }
 },
 "nbformat": 4,
 "nbformat_minor": 5
}
