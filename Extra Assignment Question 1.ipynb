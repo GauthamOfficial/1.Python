{
 "cells": [
  {
   "cell_type": "code",
   "execution_count": 1,
   "id": "5f0878c7",
   "metadata": {},
   "outputs": [
    {
     "name": "stdout",
     "output_type": "stream",
     "text": [
      "HOPE AI\n"
     ]
    }
   ],
   "source": [
    "print(\"HOPE AI\")"
   ]
  },
  {
   "cell_type": "code",
   "execution_count": 2,
   "id": "2e582223",
   "metadata": {},
   "outputs": [
    {
     "name": "stdout",
     "output_type": "stream",
     "text": [
      "Enter your institute name? : HOPE AI\n"
     ]
    }
   ],
   "source": [
    "name = input(\"Enter your institute name? : \")"
   ]
  },
  {
   "cell_type": "code",
   "execution_count": 3,
   "id": "9209b40f",
   "metadata": {},
   "outputs": [
    {
     "name": "stdout",
     "output_type": "stream",
     "text": [
      "Enter your name: Raj\n",
      "Enter your age: 15\n",
      "Enter your school name: Guru school\n",
      "Enter your degree: B.E CSE\n"
     ]
    }
   ],
   "source": [
    "name = input(\"Enter your name: \")\n",
    "age = input(\"Enter your age: \")\n",
    "name = input(\"Enter your school name: \")\n",
    "name = input(\"Enter your degree: \")"
   ]
  },
  {
   "cell_type": "code",
   "execution_count": 4,
   "id": "b340afb8",
   "metadata": {},
   "outputs": [
    {
     "name": "stdout",
     "output_type": "stream",
     "text": [
      "a= 43\n",
      "b= 34\n",
      "add =  77\n"
     ]
    }
   ],
   "source": [
    "Num1 = int(input(\"a= \"))\n",
    "Num2 = int(input(\"b= \"))\n",
    "print(\"add = \", Num1+Num2)"
   ]
  },
  {
   "cell_type": "code",
   "execution_count": 5,
   "id": "0e6df845",
   "metadata": {},
   "outputs": [
    {
     "name": "stdout",
     "output_type": "stream",
     "text": [
      "a= 43\n",
      "b= 34\n",
      "Sub =  9\n"
     ]
    }
   ],
   "source": [
    "Num1 = int(input(\"a= \"))\n",
    "Num2 = int(input(\"b= \"))\n",
    "print(\"Sub = \", Num1-Num2)"
   ]
  },
  {
   "cell_type": "code",
   "execution_count": 2,
   "id": "e1ed7d67",
   "metadata": {},
   "outputs": [
    {
     "name": "stdout",
     "output_type": "stream",
     "text": [
      "a= 63\n",
      "b= 97\n",
      "Mul =  6111\n"
     ]
    }
   ],
   "source": [
    "Num1 = int(input(\"a= \"))\n",
    "Num2 = int(input(\"b= \"))\n",
    "print(\"Mul = \", Num1*Num2)"
   ]
  },
  {
   "cell_type": "code",
   "execution_count": 3,
   "id": "5c5d7f4b",
   "metadata": {},
   "outputs": [
    {
     "name": "stdout",
     "output_type": "stream",
     "text": [
      "a= 76\n",
      "b= 31\n",
      "Float Div =  2.4516129032258065\n"
     ]
    }
   ],
   "source": [
    "Num1 = int(input(\"a= \"))\n",
    "Num2 = int(input(\"b= \"))\n",
    "print(\"Float Div = \", Num1/Num2)"
   ]
  },
  {
   "cell_type": "code",
   "execution_count": 4,
   "id": "8120f6e6",
   "metadata": {},
   "outputs": [
    {
     "name": "stdout",
     "output_type": "stream",
     "text": [
      "a= 76\n",
      "b= 31\n",
      "Floor Div =  2\n"
     ]
    }
   ],
   "source": [
    "Num1 = int(input(\"a= \"))\n",
    "Num2 = int(input(\"b= \"))\n",
    "print(\"Floor Div = \", Num1//Num2)"
   ]
  },
  {
   "cell_type": "code",
   "execution_count": 5,
   "id": "ecf8c351",
   "metadata": {},
   "outputs": [
    {
     "name": "stdout",
     "output_type": "stream",
     "text": [
      "a= 76\n",
      "b= 31\n",
      "Modulo =  14\n"
     ]
    }
   ],
   "source": [
    "Num1 = int(input(\"a= \"))\n",
    "Num2 = int(input(\"b= \"))\n",
    "print(\"Modulo = \", Num1%Num2)"
   ]
  },
  {
   "cell_type": "code",
   "execution_count": 6,
   "id": "434292bb",
   "metadata": {},
   "outputs": [
    {
     "name": "stdout",
     "output_type": "stream",
     "text": [
      "a= 4\n",
      "b= 4\n",
      "Power =  256\n"
     ]
    }
   ],
   "source": [
    "Num1 = int(input(\"a= \"))\n",
    "Num2 = int(input(\"b= \"))\n",
    "print(\"Power = \", pow(Num1, Num2))"
   ]
  },
  {
   "cell_type": "code",
   "execution_count": null,
   "id": "0153e38c",
   "metadata": {},
   "outputs": [],
   "source": []
  }
 ],
 "metadata": {
  "kernelspec": {
   "display_name": "Python 3 (ipykernel)",
   "language": "python",
   "name": "python3"
  },
  "language_info": {
   "codemirror_mode": {
    "name": "ipython",
    "version": 3
   },
   "file_extension": ".py",
   "mimetype": "text/x-python",
   "name": "python",
   "nbconvert_exporter": "python",
   "pygments_lexer": "ipython3",
   "version": "3.11.5"
  }
 },
 "nbformat": 4,
 "nbformat_minor": 5
}
