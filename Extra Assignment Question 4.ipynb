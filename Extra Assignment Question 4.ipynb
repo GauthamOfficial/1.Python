{
 "cells": [
  {
   "cell_type": "code",
   "execution_count": null,
   "id": "7fcc3a64",
   "metadata": {},
   "outputs": [],
   "source": [
    "def Subfields():\n",
    "    print(\"Sub-fields in AI are:\")\n",
    "    list=[\"Machine Learning\", \"Neural Networks\", \"Vision\", \"Robotics\", \"Speech Processing\", \"Natural Language Processing\"]\n",
    "    for i in list:\n",
    "        print(i)\n",
    "    return list"
   ]
  },
  {
   "cell_type": "code",
   "execution_count": 9,
   "id": "3e2fec88",
   "metadata": {},
   "outputs": [
    {
     "name": "stdout",
     "output_type": "stream",
     "text": [
      "Sub-fields in AI are:\n",
      "Machine Learning\n",
      "Neural Networks\n",
      "Vision\n",
      "Robotics\n",
      "Speech Processing\n",
      "Natural Language Processing\n"
     ]
    }
   ],
   "source": [
    " SubfieldsInAI = Subfields()"
   ]
  },
  {
   "cell_type": "code",
   "execution_count": 22,
   "id": "d0fc2ec9",
   "metadata": {},
   "outputs": [],
   "source": [
    "def OddEven():\n",
    "    num = int(input(\"Enter a number: \"))\n",
    "    if(num%2==0):\n",
    "        print(num, \"is Even number\")\n",
    "        message = \"Even number\"\n",
    "    else:\n",
    "        print(num,\"is Odd number\")\n",
    "        message = \"Odd number\"\n",
    "    return message"
   ]
  },
  {
   "cell_type": "code",
   "execution_count": 27,
   "id": "56ad4495",
   "metadata": {},
   "outputs": [
    {
     "name": "stdout",
     "output_type": "stream",
     "text": [
      "Enter a number: 52452\n",
      "52452 is Even number\n"
     ]
    }
   ],
   "source": [
    "message=OddEven()\n"
   ]
  },
  {
   "cell_type": "code",
   "execution_count": null,
   "id": "ab767c50",
   "metadata": {},
   "outputs": [],
   "source": [
    "def Elegible():\n",
    "    gender=input(\"Your Gender: \")\n",
    "    age=int(input(\"Your Age: \"))\n",
    "    if(gender==\"Male\"):\n",
    "        if(age<21):\n",
    "            print(\"NOT ELIGIBLE\")\n",
    "        else:\n",
    "            print(\"ELIGIBLE\")\n",
    "    elif(gender==\"Female\"):\n",
    "        if(age<18):\n",
    "            print(\"NOT ELIGIBLE\")\n",
    "        else:\n",
    "            print(\"ELIGIBLE\")\n",
    "    else:\n",
    "        print(\"Invalid Input!\")"
   ]
  },
  {
   "cell_type": "code",
   "execution_count": 36,
   "id": "39f55abf",
   "metadata": {},
   "outputs": [
    {
     "name": "stdout",
     "output_type": "stream",
     "text": [
      "Your Gender: Male\n",
      "Your Age: 20\n",
      "NOT ELIGIBLE\n"
     ]
    }
   ],
   "source": [
    " ElegiblityForMarriage=Elegible()"
   ]
  },
  {
   "cell_type": "code",
   "execution_count": 37,
   "id": "33fe5328",
   "metadata": {},
   "outputs": [],
   "source": [
    "def percentage():\n",
    "    sub1=int(input(\"Subject1= \"))\n",
    "    sub2=int(input(\"Subject2= \"))\n",
    "    sub3=int(input(\"Subject3= \"))\n",
    "    sub4=int(input(\"Subject4= \"))\n",
    "    sub5=int(input(\"Subject5= \"))\n",
    "    total=sub1+sub2+sub3+sub4+sub5\n",
    "    print(\"Total : \", total)\n",
    "    percentage=(total/500)*100\n",
    "    print(\"Percentage : \", percentage)\n",
    "    return percentage"
   ]
  },
  {
   "cell_type": "code",
   "execution_count": 39,
   "id": "bfc9aa13",
   "metadata": {},
   "outputs": [
    {
     "name": "stdout",
     "output_type": "stream",
     "text": [
      "Subject1= 98\n",
      "Subject2= 87\n",
      "Subject3= 95\n",
      "Subject4= 95\n",
      "Subject5= 93\n",
      "Total :  468\n",
      "Percentage :  93.60000000000001\n"
     ]
    }
   ],
   "source": [
    " FindPercent = percentage()"
   ]
  },
  {
   "cell_type": "code",
   "execution_count": 40,
   "id": "b5e7964b",
   "metadata": {},
   "outputs": [],
   "source": [
    "def triangle():\n",
    "    height=int(input(\"Height: \"))\n",
    "    breadth=int(input(\"Breadth: \"))\n",
    "    print(\"Area formula: (Height*Breadth)/2\")\n",
    "    area=(height*breadth)/2\n",
    "    print(\"Area of Triangle: \", area)\n",
    "    height1=int(input(\"Height1: \"))\n",
    "    height2=int(input(\"Height2: \"))\n",
    "    breadth=int(input(\"Breadth: \"))\n",
    "    print(\"Perimeter formula: Height1+Height2+Breadth\")\n",
    "    perimeter=height1+height2+breadth\n",
    "    print(\"Perimeter of Triangle: \", perimeter)"
   ]
  },
  {
   "cell_type": "code",
   "execution_count": 41,
   "id": "867b9f80",
   "metadata": {},
   "outputs": [
    {
     "name": "stdout",
     "output_type": "stream",
     "text": [
      "Height: 32\n",
      "Breadth: 34\n",
      "Area formula: (Height*Breadth)/2\n",
      "Area of Triangle:  544.0\n",
      "Height1: 2\n",
      "Height2: 4\n",
      "Breadth: 4\n",
      "Perimeter formula: Height1+Height2+Breadth\n",
      "Perimeter of Triangle:  10\n"
     ]
    }
   ],
   "source": [
    " Triangle=triangle()"
   ]
  },
  {
   "cell_type": "code",
   "execution_count": null,
   "id": "56f3b042",
   "metadata": {},
   "outputs": [],
   "source": []
  }
 ],
 "metadata": {
  "kernelspec": {
   "display_name": "Python 3 (ipykernel)",
   "language": "python",
   "name": "python3"
  },
  "language_info": {
   "codemirror_mode": {
    "name": "ipython",
    "version": 3
   },
   "file_extension": ".py",
   "mimetype": "text/x-python",
   "name": "python",
   "nbconvert_exporter": "python",
   "pygments_lexer": "ipython3",
   "version": "3.11.5"
  }
 },
 "nbformat": 4,
 "nbformat_minor": 5
}
